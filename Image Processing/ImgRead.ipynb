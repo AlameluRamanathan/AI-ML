{
 "cells": [
  {
   "cell_type": "code",
   "execution_count": 12,
   "id": "bfcfe587",
   "metadata": {},
   "outputs": [],
   "source": [
    "# Python code to read image\n",
    "import cv2\n",
    "\n",
    "# To read image from disk, we use\n",
    "# cv2.imread function, in below method,\n",
    "img = cv2.imread(\"rose.jpg\")\n",
    "\n",
    "# Creating GUI window to display an image on screen\n",
    "# first Parameter is windows title (should be in string format)\n",
    "# Second Parameter is image array\n",
    "cv2.imshow(\"Rose\", img)\n",
    "\n",
    "# To hold the window on screen, we use cv2.waitKey method\n",
    "# Once it detected the close input, it will release the control\n",
    "# To the next line\n",
    "# First Parameter is for holding screen for specified milliseconds\n",
    "# It should be positive integer. If 0 pass an parameter, then it will\n",
    "# hold the screen until user close it.\n",
    "cv2.waitKey(0)\n",
    "\n",
    "# It is for removing/deleting created GUI window from screen\n",
    "# and memory\n",
    "cv2.destroyAllWindows()\n"
   ]
  },
  {
   "cell_type": "code",
   "execution_count": 15,
   "id": "b6b8ac01",
   "metadata": {},
   "outputs": [
    {
     "data": {
      "text/plain": [
       "True"
      ]
     },
     "execution_count": 15,
     "metadata": {},
     "output_type": "execute_result"
    }
   ],
   "source": [
    "import os\n",
    "path = 'D:\\IP\\samples'\n",
    "cv2.imwrite(os.path.join(path , 'flower.jpg'), img)"
   ]
  },
  {
   "cell_type": "code",
   "execution_count": 8,
   "id": "fa7c7d8c",
   "metadata": {},
   "outputs": [],
   "source": [
    "R=127\n",
    "G=255\n",
    "B=80\n",
    "greyscale=(R+G+B)/3"
   ]
  },
  {
   "cell_type": "code",
   "execution_count": 10,
   "id": "6336afe7",
   "metadata": {},
   "outputs": [
    {
     "data": {
      "text/plain": [
       "154.0"
      ]
     },
     "execution_count": 10,
     "metadata": {},
     "output_type": "execute_result"
    }
   ],
   "source": [
    "greyscale"
   ]
  },
  {
   "cell_type": "code",
   "execution_count": null,
   "id": "0c5fdbfe",
   "metadata": {},
   "outputs": [],
   "source": [
    "# write image in another location\n",
    "# Fruit classification flow chart"
   ]
  }
 ],
 "metadata": {
  "kernelspec": {
   "display_name": "Python 3",
   "language": "python",
   "name": "python3"
  },
  "language_info": {
   "codemirror_mode": {
    "name": "ipython",
    "version": 3
   },
   "file_extension": ".py",
   "mimetype": "text/x-python",
   "name": "python",
   "nbconvert_exporter": "python",
   "pygments_lexer": "ipython3",
   "version": "3.7.11"
  }
 },
 "nbformat": 4,
 "nbformat_minor": 5
}
